{
 "cells": [
  {
   "cell_type": "markdown",
   "metadata": {},
   "source": [
    "### Import Required Libraries"
   ]
  },
  {
   "cell_type": "code",
   "execution_count": null,
   "metadata": {
    "colab": {},
    "colab_type": "code",
    "id": "k-HUHwctDu4l"
   },
   "outputs": [],
   "source": [
    "import dlib\n",
    "import imutils\n",
    "import cv2\n",
    "import time\n",
    "import numpy as np\n",
    "from scipy.spatial import distance as dt\n",
    "from playsound import playsound\n",
    "from imutils import face_utils\n",
    "from threading import Thread"
   ]
  },
  {
   "cell_type": "code",
   "execution_count": null,
   "metadata": {
    "colab": {},
    "colab_type": "code",
    "id": "Q0IAow7uzPSN"
   },
   "outputs": [],
   "source": [
    "#Function to play Alarm tune on Detecting that user is sleeping\n",
    "\n",
    "def play_sound(path):\n",
    "    playsound(path)"
   ]
  },
  {
   "cell_type": "code",
   "execution_count": null,
   "metadata": {
    "colab": {},
    "colab_type": "code",
    "id": "O_qz6Zr20Yb7"
   },
   "outputs": [],
   "source": [
    "#Calculating Aspect ratio for eye\n",
    "\n",
    "def eye_aspect_ratio(eye):\n",
    "    A=dt.euclidean(eye[1], eye[5])\n",
    "    B=dt.euclidean(eye[2], eye[4])\n",
    "    C=dt.euclidean(eye[0], eye[3])\n",
    "    ratio=(A+B)/(2.0*C)\n",
    "    return ratio"
   ]
  },
  {
   "cell_type": "code",
   "execution_count": null,
   "metadata": {
    "colab": {},
    "colab_type": "code",
    "id": "N05nj_emZhoj"
   },
   "outputs": [],
   "source": [
    "#Calculating Aspect Ratio for mouth\n",
    "\n",
    "def mouth_aspect_ratio(mouth):\n",
    "    A=dt.euclidean(mouth[2], mouth[6])\n",
    "    B=dt.euclidean(mouth[0], mouth[4])\n",
    "    ratio=A/B\n",
    "    return ratio"
   ]
  },
  {
   "cell_type": "code",
   "execution_count": null,
   "metadata": {
    "colab": {},
    "colab_type": "code",
    "id": "XJ3X1ZJu3qj8"
   },
   "outputs": [],
   "source": [
    "#Data file which helps us predict Facial landmark features using dlib\n",
    "predictor_file='/content/drive/My Drive/Kaggle/Projects/Drowsiness Detector/shape_predictor_68_face_landmarks.dat'\n",
    "\n",
    "#Path to alarm tune(.mp3)\n",
    "alarm='/content/drive/My Drive/Kaggle/Projects/Drowsiness Detector/alarm_clock_tonight.mp3'"
   ]
  },
  {
   "cell_type": "code",
   "execution_count": null,
   "metadata": {
    "colab": {},
    "colab_type": "code",
    "id": "n95M9sC130bw"
   },
   "outputs": [],
   "source": [
    "#Threshold for Eye aspect ratio, if Aspect ratio of eye < threshold i.e. user is sleeping, Ring the alarm\n",
    "eye_ratio_thresh=0.25\n",
    "\n",
    "#Threshold for Eye aspect ratio, if Aspect ratio of mouth > threshold i.e. user is Yawning, Alert the user to have a break\n",
    "mouth_ratio_thresh=0.2\n",
    "\n",
    "#Maximum no. of frames required for which eyes are closed, then ring the alarm (We Don't wanna ring it for an eyeblink)\n",
    "eye_max_frames=10\n",
    "\n",
    "play_alarm=False\n",
    "\n",
    "#Flag to count no. of frames for which eye's been closed\n",
    "counter=0"
   ]
  },
  {
   "cell_type": "code",
   "execution_count": null,
   "metadata": {
    "colab": {},
    "colab_type": "code",
    "id": "t5U2HbsA5FHz"
   },
   "outputs": [],
   "source": [
    "#Detect Face\n",
    "detector=dlib.get_frontal_face_detector()\n",
    "\n",
    "#Detect facial landmark features\n",
    "predictor=dlib.shape_predictor(predictor_file)"
   ]
  },
  {
   "cell_type": "code",
   "execution_count": null,
   "metadata": {
    "colab": {},
    "colab_type": "code",
    "id": "tW_uvh--5-dl"
   },
   "outputs": [],
   "source": [
    "#Indexes for Left, right eye and mouth from predcition array\n",
    "\n",
    "(left_eye_start, left_eye_end)=face_utils.FACIAL_LANDMARKS_IDXS['left_eye']\n",
    "(right_eye_start, right_eye_end)=face_utils.FACIAL_LANDMARKS_IDXS['right_eye']\n",
    "(mouth_start, mouth_end)=face_utils.FACIAL_LANDMARKS_IDXS['inner_mouth']"
   ]
  },
  {
   "cell_type": "code",
   "execution_count": null,
   "metadata": {
    "colab": {},
    "colab_type": "code",
    "id": "xreJWq2o6abp"
   },
   "outputs": [],
   "source": [
    "#Path for saving Output video\n",
    "\n",
    "writer=None\n",
    "output='/content/drive/My Drive/Kaggle/Projects/Drowsiness Detector/output.avi'"
   ]
  },
  {
   "cell_type": "code",
   "execution_count": null,
   "metadata": {
    "colab": {},
    "colab_type": "code",
    "id": "2qIXwWcB6inO"
   },
   "outputs": [],
   "source": [
    "video=cv2.VideoCapture(0)\n",
    "while(True):\n",
    "    check, frame=video.read()\n",
    "    if check is False:\n",
    "        break\n",
    "    frame=imutils.resize(frame, width=450)\n",
    "    gray=cv2.cvtColor(frame, cv2.COLOR_BGR2GRAY)\n",
    "    faces=detector(gray, 0)\n",
    "    \n",
    "    #Iterate for all faces detected\n",
    "    for face in faces:\n",
    "        shape=predictor(gray, face)\n",
    "        \n",
    "        #Getting numpy array for all Facial landmark features detected\n",
    "        shape=face_utils.shape_to_np(shape)\n",
    "        \n",
    "        #Co-ordinates for Left, right eye and mouth\n",
    "        left_eye=shape[left_eye_start:left_eye_end]\n",
    "        right_eye=shape[right_eye_start:right_eye_end]\n",
    "        mouth=shape[mouth_start:mouth_end]\n",
    "        \n",
    "        #Getting eyes and mouth's aspect ratio\n",
    "        left_eye_ar=eye_aspect_ratio(left_eye)\n",
    "        right_eye_ar=eye_aspect_ratio(right_eye)\n",
    "        average_ratio=(left_eye_ar+right_eye_ar)/2.0\n",
    "        mouth_ar=mouth_aspect_ratio(mouth)\n",
    "        \n",
    "        #drawing a convex hull on detections\n",
    "        left_eye_hull=cv2.convexHull(left_eye)\n",
    "        right_eye_hull=cv2.convexHull(right_eye)\n",
    "        mouth_hull=cv2.convexHull(mouth)\n",
    "        cv2.drawContours(frame, [left_eye_hull], -1, (0,255,0),1)\n",
    "        cv2.drawContours(frame, [right_eye_hull], -1, (0,255,0), 1)\n",
    "        cv2.drawContours(frame, [mouth_hull], -1, (255,255,0),1)\n",
    "        \n",
    "        #Detecting sleep\n",
    "        if average_ratio<eye_ratio_thresh:\n",
    "            counter+=1\n",
    "            if counter>eye_max_frames:\n",
    "                cv2.putText(frame, 'Don\\'t SLEEP!!!', (180, 30),cv2.FONT_HERSHEY_SIMPLEX, 0.7, (0,100,255),2)\n",
    "                play_alarm=True\n",
    "                t=Thread(target=play_sound, args=(alarm))\n",
    "                t.deamon=True\n",
    "                t.start()\n",
    "        else:\n",
    "            counter=0\n",
    "            play_alarm=False\n",
    "            \n",
    "        #Detecting Yawning\n",
    "        if mouth_ar>mouth_ratio_thresh and play_alarm==False:\n",
    "            cv2.putText(frame, 'Feeling Drowsy, Have A Break!', (75, 30), cv2.FONT_HERSHEY_SIMPLEX, 0.7, (10,255,50),2)\n",
    "        cv2.imshow('Output',frame)\n",
    "        cv2.waitKey(1)\n",
    "        \n",
    "        #Saving frame to output video\n",
    "        if writer==None and output!='':\n",
    "            fourcc=cv2.VideoWriter_fourcc(*'MJPG')\n",
    "            writer=cv2.VideoWriter(output, fourcc, video.get(cv2.CAP_PROP_FPS), (frame.shape[1],frame.shape[0]),True)\n",
    "        if writer is not None:\n",
    "            writer.write(frame)\n",
    "video.release()\n",
    "writer.release()"
   ]
  },
  {
   "cell_type": "code",
   "execution_count": null,
   "metadata": {
    "colab": {},
    "colab_type": "code",
    "id": "pMHRHEkzafo9"
   },
   "outputs": [],
   "source": []
  }
 ],
 "metadata": {
  "accelerator": "GPU",
  "colab": {
   "collapsed_sections": [],
   "name": "Drowsiness Detector.ipynb",
   "provenance": []
  },
  "kernelspec": {
   "display_name": "Python 3",
   "language": "python",
   "name": "python3"
  },
  "language_info": {
   "codemirror_mode": {
    "name": "ipython",
    "version": 3
   },
   "file_extension": ".py",
   "mimetype": "text/x-python",
   "name": "python",
   "nbconvert_exporter": "python",
   "pygments_lexer": "ipython3",
   "version": "3.7.4"
  }
 },
 "nbformat": 4,
 "nbformat_minor": 1
}
